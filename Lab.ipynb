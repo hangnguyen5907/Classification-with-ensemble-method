{
 "cells": [
  {
   "cell_type": "markdown",
   "metadata": {
    "button": false,
    "id": "SzPE54CYM1kJ",
    "new_sheet": false,
    "run_control": {
     "read_only": false
    }
   },
   "source": [
    "<h1 align=center><font size = 10> Classification with Python</font></h1>"
   ]
  },
  {
   "cell_type": "markdown",
   "metadata": {
    "button": false,
    "id": "XPfbiVLfM1kK",
    "new_sheet": false,
    "run_control": {
     "read_only": false
    }
   },
   "source": [
    "In this notebook, we try to practice all the classification algorithms that we have learned in this course.\n",
    "\n",
    "We load a dataset using the Pandas library, and apply the following algorithms, and find the best one for this specific dataset by accuracy evaluation methods.\n",
    "\n",
    "Lets first load required libraries:"
   ]
  },
  {
   "cell_type": "code",
   "execution_count": null,
   "metadata": {
    "button": false,
    "id": "vcBmcLcqM1kL",
    "new_sheet": false,
    "run_control": {
     "read_only": false
    }
   },
   "outputs": [],
   "source": [
    "import matplotlib.pyplot as plt\n",
    "from matplotlib.ticker import NullFormatter\n",
    "import pandas as pd\n",
    "import numpy as np\n",
    "import matplotlib.ticker as ticker\n",
    "import sklearn\n",
    "from sklearn import preprocessing\n",
    "\n",
    "%matplotlib inline"
   ]
  },
  {
   "cell_type": "markdown",
   "metadata": {
    "id": "PKehb7okM1kN"
   },
   "source": [
    "# Mandatory part (85%  of the total score)"
   ]
  },
  {
   "cell_type": "markdown",
   "metadata": {
    "id": "1OXuDMKku37m"
   },
   "source": []
  },
  {
   "cell_type": "markdown",
   "metadata": {
    "button": false,
    "id": "ZAL75IefM1kO",
    "new_sheet": false,
    "run_control": {
     "read_only": false
    }
   },
   "source": [
    "## About dataset"
   ]
  },
  {
   "cell_type": "markdown",
   "metadata": {
    "button": false,
    "id": "yrPdRO--M1kO",
    "new_sheet": false,
    "run_control": {
     "read_only": false
    }
   },
   "source": [
    "The Pima is a group of Native Americans living in Arizona. A genetic predisposition allowed this group to survive normally to a diet poor of carbohydrates for years. In recent years, a sudden shift from traditional agricultural crops to processed foods, together with a decline in physical activity, has made them develop the highest prevalence of type 2 diabetes and for this reason, they have been subject of many studies.\n",
    "\n",
    "The dataset includes data from 768 women with 8 characteristics, in particular:\n",
    "\n",
    "- Number of times pregnant\n",
    "- Plasma glucose concentration a 2 hours in an oral glucose tolerance test\n",
    "- Diastolic blood pressure (mm Hg)\n",
    "- Triceps skinfold thickness (mm)\n",
    "- 2-Hour serum insulin (mu U/ml)\n",
    "- Body mass index (weight in kg/(height in m)^2)\n",
    "- Diabetes pedigree function\n",
    "- Age (years)\n",
    "- The last column of the dataset indicates if the person has been diagnosed with diabetes (1) or not (0)"
   ]
  },
  {
   "cell_type": "markdown",
   "metadata": {
    "id": "dzJFrqwyM1kP"
   },
   "source": [
    "## The problem:"
   ]
  },
  {
   "cell_type": "markdown",
   "metadata": {
    "id": "WFl47FBcM1kQ"
   },
   "source": [
    "The type of dataset and problem is a classic supervised binary classification. Given a number of elements with certain characteristics (features), we want to build a machine learning model to identify people affected by type 2 diabetes.\n",
    "\n",
    "To solve the problem we will have to analyze the data, do any required transformation and nomarlization, apply a machine learning algorithm, train a model, check the performance of the trained model and iterate with other algorithms until we find the most performant for our type of dataset."
   ]
  },
  {
   "cell_type": "markdown",
   "metadata": {
    "button": false,
    "id": "Diy5tSZ7M1kQ",
    "new_sheet": false,
    "run_control": {
     "read_only": false
    }
   },
   "source": [
    "## Load Data From CSV File  "
   ]
  },
  {
   "cell_type": "markdown",
   "metadata": {
    "id": "qdIctwmZM1kR"
   },
   "source": [
    "### 1. Load the dataset from the 'pima-indians-diabetes.csv' file.\n",
    "\n",
    "Because the CSV doesn't contain any header, we add column names using the description from the original dataset website:\n",
    "\n",
    "dataset.columns=[\"NumTimesPrg\",\"PlGlcConc\",\"BloodP\",\"SkinThick\",\"TwoHourSerIns\",\"BMI\",\"DiPedFunc\",\"Age\",\"HasDiabetes\"]"
   ]
  },
  {
   "cell_type": "code",
   "execution_count": 2,
   "metadata": {
    "button": false,
    "id": "K-TmhZ8vM1kS",
    "new_sheet": false,
    "run_control": {
     "read_only": false
    }
   },
   "outputs": [
    {
     "data": {
      "text/html": [
       "<div>\n",
       "<style scoped>\n",
       "    .dataframe tbody tr th:only-of-type {\n",
       "        vertical-align: middle;\n",
       "    }\n",
       "\n",
       "    .dataframe tbody tr th {\n",
       "        vertical-align: top;\n",
       "    }\n",
       "\n",
       "    .dataframe thead th {\n",
       "        text-align: right;\n",
       "    }\n",
       "</style>\n",
       "<table border=\"1\" class=\"dataframe\">\n",
       "  <thead>\n",
       "    <tr style=\"text-align: right;\">\n",
       "      <th></th>\n",
       "      <th>NumTimesPrg</th>\n",
       "      <th>PlGlcConc</th>\n",
       "      <th>BloodP</th>\n",
       "      <th>SkinThick</th>\n",
       "      <th>TwoHourSerIns</th>\n",
       "      <th>BMI</th>\n",
       "      <th>DiPedFunc</th>\n",
       "      <th>Age</th>\n",
       "      <th>HasDiabetes</th>\n",
       "    </tr>\n",
       "  </thead>\n",
       "  <tbody>\n",
       "    <tr>\n",
       "      <th>0</th>\n",
       "      <td>6</td>\n",
       "      <td>148</td>\n",
       "      <td>72</td>\n",
       "      <td>35</td>\n",
       "      <td>0</td>\n",
       "      <td>33.6</td>\n",
       "      <td>0.627</td>\n",
       "      <td>50</td>\n",
       "      <td>1</td>\n",
       "    </tr>\n",
       "    <tr>\n",
       "      <th>1</th>\n",
       "      <td>1</td>\n",
       "      <td>85</td>\n",
       "      <td>66</td>\n",
       "      <td>29</td>\n",
       "      <td>0</td>\n",
       "      <td>26.6</td>\n",
       "      <td>0.351</td>\n",
       "      <td>31</td>\n",
       "      <td>0</td>\n",
       "    </tr>\n",
       "    <tr>\n",
       "      <th>2</th>\n",
       "      <td>8</td>\n",
       "      <td>183</td>\n",
       "      <td>64</td>\n",
       "      <td>0</td>\n",
       "      <td>0</td>\n",
       "      <td>23.3</td>\n",
       "      <td>0.672</td>\n",
       "      <td>32</td>\n",
       "      <td>1</td>\n",
       "    </tr>\n",
       "    <tr>\n",
       "      <th>3</th>\n",
       "      <td>1</td>\n",
       "      <td>89</td>\n",
       "      <td>66</td>\n",
       "      <td>23</td>\n",
       "      <td>94</td>\n",
       "      <td>28.1</td>\n",
       "      <td>0.167</td>\n",
       "      <td>21</td>\n",
       "      <td>0</td>\n",
       "    </tr>\n",
       "    <tr>\n",
       "      <th>4</th>\n",
       "      <td>0</td>\n",
       "      <td>137</td>\n",
       "      <td>40</td>\n",
       "      <td>35</td>\n",
       "      <td>168</td>\n",
       "      <td>43.1</td>\n",
       "      <td>2.288</td>\n",
       "      <td>33</td>\n",
       "      <td>1</td>\n",
       "    </tr>\n",
       "  </tbody>\n",
       "</table>\n",
       "</div>"
      ],
      "text/plain": [
       "   NumTimesPrg  PlGlcConc  BloodP  SkinThick  TwoHourSerIns   BMI  DiPedFunc  \\\n",
       "0            6        148      72         35              0  33.6      0.627   \n",
       "1            1         85      66         29              0  26.6      0.351   \n",
       "2            8        183      64          0              0  23.3      0.672   \n",
       "3            1         89      66         23             94  28.1      0.167   \n",
       "4            0        137      40         35            168  43.1      2.288   \n",
       "\n",
       "   Age  HasDiabetes  \n",
       "0   50            1  \n",
       "1   31            0  \n",
       "2   32            1  \n",
       "3   21            0  \n",
       "4   33            1  "
      ]
     },
     "execution_count": 2,
     "metadata": {},
     "output_type": "execute_result"
    }
   ],
   "source": [
    "#TO DO: dữ liệu về bệnh tiểu đường\n",
    "df=pd.read_csv(\"pima-indians-diabetes.csv\",header=None)\n",
    "df.columns =[\"NumTimesPrg\",\"PlGlcConc\",\"BloodP\",\"SkinThick\",\"TwoHourSerIns\",\"BMI\",\"DiPedFunc\",\"Age\",\"HasDiabetes\"]\n",
    "df.head()"
   ]
  },
  {
   "cell_type": "markdown",
   "metadata": {
    "button": false,
    "id": "AmBhwo0DM1kU",
    "new_sheet": false,
    "run_control": {
     "read_only": false
    }
   },
   "source": [
    "## Inspect the Dataset"
   ]
  },
  {
   "cell_type": "markdown",
   "metadata": {
    "id": "_HlgbaIQM1kU"
   },
   "source": [
    "### 2. Print out the shape of the dataset: we have 768 rows and 9 columns. Then, print out the head of the dataset to better understand the data format.\n",
    "\n",
    "The first 8 columns are features while the last one is the supervised label (1 = has diabetes, 0 = no diabetes)"
   ]
  },
  {
   "cell_type": "code",
   "execution_count": 3,
   "metadata": {
    "button": false,
    "id": "bpyxtYzcM1kV",
    "new_sheet": false,
    "outputId": "4d857f7e-842e-4fb7-ec21-354ac3756be7",
    "run_control": {
     "read_only": false
    }
   },
   "outputs": [
    {
     "data": {
      "text/plain": [
       "(768, 9)"
      ]
     },
     "execution_count": 3,
     "metadata": {},
     "output_type": "execute_result"
    }
   ],
   "source": [
    "#TO DO:\n",
    "df.shape"
   ]
  },
  {
   "cell_type": "markdown",
   "metadata": {
    "button": false,
    "id": "a02T2r1XM1kY",
    "new_sheet": false,
    "run_control": {
     "read_only": false
    }
   },
   "source": [
    "# Data visualization and pre-processing\n",
    "\n"
   ]
  },
  {
   "cell_type": "markdown",
   "metadata": {
    "button": false,
    "id": "WyisS4NVM1kZ",
    "new_sheet": false,
    "run_control": {
     "read_only": false
    }
   },
   "source": [
    "## Data correlation matrix\n",
    "### 3. Let's calculate the correlation matrix for our dataset.\n",
    "\n",
    "The correlation matrix is an important tool to understand the correlation between the different characteristics. The values range from -1 to 1 and the closer a value is to 1 the better correlation there is between two characteristics. "
   ]
  },
  {
   "cell_type": "code",
   "execution_count": 4,
   "metadata": {
    "button": false,
    "id": "vymkxfN8M1kZ",
    "new_sheet": false,
    "outputId": "7e458e60-772c-4d79-d71d-a5692a1a0dc6",
    "run_control": {
     "read_only": false
    }
   },
   "outputs": [
    {
     "data": {
      "text/html": [
       "<div>\n",
       "<style scoped>\n",
       "    .dataframe tbody tr th:only-of-type {\n",
       "        vertical-align: middle;\n",
       "    }\n",
       "\n",
       "    .dataframe tbody tr th {\n",
       "        vertical-align: top;\n",
       "    }\n",
       "\n",
       "    .dataframe thead th {\n",
       "        text-align: right;\n",
       "    }\n",
       "</style>\n",
       "<table border=\"1\" class=\"dataframe\">\n",
       "  <thead>\n",
       "    <tr style=\"text-align: right;\">\n",
       "      <th></th>\n",
       "      <th>NumTimesPrg</th>\n",
       "      <th>PlGlcConc</th>\n",
       "      <th>BloodP</th>\n",
       "      <th>SkinThick</th>\n",
       "      <th>TwoHourSerIns</th>\n",
       "      <th>BMI</th>\n",
       "      <th>DiPedFunc</th>\n",
       "      <th>Age</th>\n",
       "      <th>HasDiabetes</th>\n",
       "    </tr>\n",
       "  </thead>\n",
       "  <tbody>\n",
       "    <tr>\n",
       "      <th>NumTimesPrg</th>\n",
       "      <td>1.000000</td>\n",
       "      <td>0.129459</td>\n",
       "      <td>0.141282</td>\n",
       "      <td>-0.081672</td>\n",
       "      <td>-0.073535</td>\n",
       "      <td>0.017683</td>\n",
       "      <td>-0.033523</td>\n",
       "      <td>0.544341</td>\n",
       "      <td>0.221898</td>\n",
       "    </tr>\n",
       "    <tr>\n",
       "      <th>PlGlcConc</th>\n",
       "      <td>0.129459</td>\n",
       "      <td>1.000000</td>\n",
       "      <td>0.152590</td>\n",
       "      <td>0.057328</td>\n",
       "      <td>0.331357</td>\n",
       "      <td>0.221071</td>\n",
       "      <td>0.137337</td>\n",
       "      <td>0.263514</td>\n",
       "      <td>0.466581</td>\n",
       "    </tr>\n",
       "    <tr>\n",
       "      <th>BloodP</th>\n",
       "      <td>0.141282</td>\n",
       "      <td>0.152590</td>\n",
       "      <td>1.000000</td>\n",
       "      <td>0.207371</td>\n",
       "      <td>0.088933</td>\n",
       "      <td>0.281805</td>\n",
       "      <td>0.041265</td>\n",
       "      <td>0.239528</td>\n",
       "      <td>0.065068</td>\n",
       "    </tr>\n",
       "    <tr>\n",
       "      <th>SkinThick</th>\n",
       "      <td>-0.081672</td>\n",
       "      <td>0.057328</td>\n",
       "      <td>0.207371</td>\n",
       "      <td>1.000000</td>\n",
       "      <td>0.436783</td>\n",
       "      <td>0.392573</td>\n",
       "      <td>0.183928</td>\n",
       "      <td>-0.113970</td>\n",
       "      <td>0.074752</td>\n",
       "    </tr>\n",
       "    <tr>\n",
       "      <th>TwoHourSerIns</th>\n",
       "      <td>-0.073535</td>\n",
       "      <td>0.331357</td>\n",
       "      <td>0.088933</td>\n",
       "      <td>0.436783</td>\n",
       "      <td>1.000000</td>\n",
       "      <td>0.197859</td>\n",
       "      <td>0.185071</td>\n",
       "      <td>-0.042163</td>\n",
       "      <td>0.130548</td>\n",
       "    </tr>\n",
       "    <tr>\n",
       "      <th>BMI</th>\n",
       "      <td>0.017683</td>\n",
       "      <td>0.221071</td>\n",
       "      <td>0.281805</td>\n",
       "      <td>0.392573</td>\n",
       "      <td>0.197859</td>\n",
       "      <td>1.000000</td>\n",
       "      <td>0.140647</td>\n",
       "      <td>0.036242</td>\n",
       "      <td>0.292695</td>\n",
       "    </tr>\n",
       "    <tr>\n",
       "      <th>DiPedFunc</th>\n",
       "      <td>-0.033523</td>\n",
       "      <td>0.137337</td>\n",
       "      <td>0.041265</td>\n",
       "      <td>0.183928</td>\n",
       "      <td>0.185071</td>\n",
       "      <td>0.140647</td>\n",
       "      <td>1.000000</td>\n",
       "      <td>0.033561</td>\n",
       "      <td>0.173844</td>\n",
       "    </tr>\n",
       "    <tr>\n",
       "      <th>Age</th>\n",
       "      <td>0.544341</td>\n",
       "      <td>0.263514</td>\n",
       "      <td>0.239528</td>\n",
       "      <td>-0.113970</td>\n",
       "      <td>-0.042163</td>\n",
       "      <td>0.036242</td>\n",
       "      <td>0.033561</td>\n",
       "      <td>1.000000</td>\n",
       "      <td>0.238356</td>\n",
       "    </tr>\n",
       "    <tr>\n",
       "      <th>HasDiabetes</th>\n",
       "      <td>0.221898</td>\n",
       "      <td>0.466581</td>\n",
       "      <td>0.065068</td>\n",
       "      <td>0.074752</td>\n",
       "      <td>0.130548</td>\n",
       "      <td>0.292695</td>\n",
       "      <td>0.173844</td>\n",
       "      <td>0.238356</td>\n",
       "      <td>1.000000</td>\n",
       "    </tr>\n",
       "  </tbody>\n",
       "</table>\n",
       "</div>"
      ],
      "text/plain": [
       "               NumTimesPrg  PlGlcConc    BloodP  SkinThick  TwoHourSerIns  \\\n",
       "NumTimesPrg       1.000000   0.129459  0.141282  -0.081672      -0.073535   \n",
       "PlGlcConc         0.129459   1.000000  0.152590   0.057328       0.331357   \n",
       "BloodP            0.141282   0.152590  1.000000   0.207371       0.088933   \n",
       "SkinThick        -0.081672   0.057328  0.207371   1.000000       0.436783   \n",
       "TwoHourSerIns    -0.073535   0.331357  0.088933   0.436783       1.000000   \n",
       "BMI               0.017683   0.221071  0.281805   0.392573       0.197859   \n",
       "DiPedFunc        -0.033523   0.137337  0.041265   0.183928       0.185071   \n",
       "Age               0.544341   0.263514  0.239528  -0.113970      -0.042163   \n",
       "HasDiabetes       0.221898   0.466581  0.065068   0.074752       0.130548   \n",
       "\n",
       "                    BMI  DiPedFunc       Age  HasDiabetes  \n",
       "NumTimesPrg    0.017683  -0.033523  0.544341     0.221898  \n",
       "PlGlcConc      0.221071   0.137337  0.263514     0.466581  \n",
       "BloodP         0.281805   0.041265  0.239528     0.065068  \n",
       "SkinThick      0.392573   0.183928 -0.113970     0.074752  \n",
       "TwoHourSerIns  0.197859   0.185071 -0.042163     0.130548  \n",
       "BMI            1.000000   0.140647  0.036242     0.292695  \n",
       "DiPedFunc      0.140647   1.000000  0.033561     0.173844  \n",
       "Age            0.036242   0.033561  1.000000     0.238356  \n",
       "HasDiabetes    0.292695   0.173844  0.238356     1.000000  "
      ]
     },
     "execution_count": 4,
     "metadata": {},
     "output_type": "execute_result"
    }
   ],
   "source": [
    "#TO DO:\n",
    "df.corr()"
   ]
  },
  {
   "cell_type": "markdown",
   "metadata": {
    "id": "Q0YpKuUBM1kb"
   },
   "source": [
    "### 4. Render the corr matrix using the heatmap in seaborn."
   ]
  },
  {
   "cell_type": "code",
   "execution_count": 5,
   "metadata": {
    "id": "ll0POqtIM1kc",
    "outputId": "99b49b55-941d-47dc-b62d-26521240524e"
   },
   "outputs": [
    {
     "data": {
      "text/plain": [
       "<matplotlib.axes._subplots.AxesSubplot at 0x7f978d3ce810>"
      ]
     },
     "execution_count": 5,
     "metadata": {},
     "output_type": "execute_result"
    },
    {
     "data": {
      "image/png": "[encoded data removed]",
      "text/plain": [
       "<Figure size 432x288 with 2 Axes>"
      ]
     },
     "metadata": {
      "needs_background": "light"
     },
     "output_type": "display_data"
    }
   ],
   "source": [
    "#TO DO:\n",
    "%matplotlib inline\n",
    "import seaborn as sns\n",
    "sns.heatmap(df.corr(),annot=True)"
   ]
  },
  {
   "cell_type": "markdown",
   "metadata": {
    "id": "r7DgicVOM1ke"
   },
   "source": [
    "### 5. Print out the column which has the biggest corr number with 'HasDiabetes'."
   ]
  },
  {
   "cell_type": "code",
   "execution_count": 6,
   "metadata": {},
   "outputs": [
    {
     "name": "stdout",
     "output_type": "stream",
     "text": [
      "0      148\n",
      "1       85\n",
      "2      183\n",
      "3       89\n",
      "4      137\n",
      "      ... \n",
      "763    101\n",
      "764    122\n",
      "765    121\n",
      "766    126\n",
      "767     93\n",
      "Name: PlGlcConc, Length: 768, dtype: int64\n"
     ]
    }
   ],
   "source": [
    "print(df[\"PlGlcConc\"])"
   ]
  },
  {
   "cell_type": "markdown",
   "metadata": {
    "id": "gZ5Msu8UM1kg"
   },
   "source": [
    "## Visualize the Dataset\n",
    "Visualizing the data is an important step of the data analysis. With a graphical visualization of the data, we have a better understanding of the various features values distribution: for example, we can understand the average age of the people or the average BMI, etc...\n",
    "\n",
    "We could, of course, limit our inspection to the table visualization, but we could miss important things that may affect our model precision.\n",
    "### 6. Manipulate histogram to represent all data columns in the dataset."
   ]
  },
  {
   "cell_type": "code",
   "execution_count": 7,
   "metadata": {
    "id": "JC3CILgxM1kh",
    "outputId": "27498265-42ad-42be-a9bd-49094a9b6cb5"
   },
   "outputs": [
    {
     "data": {
      "image/png": "[encoded data removed]",
      "text/plain": [
       "<Figure size 864x864 with 9 Axes>"
      ]
     },
     "metadata": {
      "needs_background": "light"
     },
     "output_type": "display_data"
    }
   ],
   "source": [
    "#TO DO:\n",
    "df.hist(figsize=(12,12),bins=50)\n",
    "plt.tight_layout()"
   ]
  },
  {
   "cell_type": "markdown",
   "metadata": {
    "button": false,
    "id": "VYSkabikM1kj",
    "new_sheet": false,
    "run_control": {
     "read_only": false
    }
   },
   "source": [
    "An important thing I notice in the dataset (and that wasn't obvious at the beginning) is the fact that some people have null (zero) values for some of the features: it's not quite possible to have 0 for BMI or the blood pressure.\n",
    "\n",
    "How can we deal with similar values? We will see it later during the data transformation phase."
   ]
  },
  {
   "cell_type": "markdown",
   "metadata": {
    "button": false,
    "id": "si5Fgks4M1kj",
    "new_sheet": false,
    "run_control": {
     "read_only": false
    }
   },
   "source": [
    "## Data cleaning and transformation"
   ]
  },
  {
   "cell_type": "markdown",
   "metadata": {
    "button": false,
    "id": "ZDAqJwOaM1kk",
    "new_sheet": false,
    "run_control": {
     "read_only": false
    }
   },
   "source": [
    "We have noticed from the previous analysis that some patients have missing data for some of the features. Machine learning algorithms don't work very well when the data are missing so we have to find a solution to \"clean\" the data we have.\n",
    "\n",
    "The easiest option could be to eliminate all those patients with null/zero values, but in this way, we would eliminate a lot of important data.\n",
    "\n",
    "Another option is to calculate the median value for a specific column and substitute that value everywhere (in the same column) we have zero or null. Let's see how to apply this second method.\n",
    "\n",
    "### 7. Interpolate missing values on ['BMI', 'BloodP', 'PlGlcConc', 'SkinThick',  'TwoHourSerIns'] using median values or any other way which is effective.\n",
    "\n",
    "We haven't transformed all the columns, because of some values which can make sense to be zero (like \"Number of times pregnant\")."
   ]
  },
  {
   "cell_type": "code",
   "execution_count": 8,
   "metadata": {},
   "outputs": [
    {
     "name": "stdout",
     "output_type": "stream",
     "text": [
      "BMI:  11\n",
      "BloodP:  35\n",
      "PlGlcConc:  5\n",
      "SkinThick:  227\n",
      "TwoHourSerIns:  374\n"
     ]
    }
   ],
   "source": [
    "# check numbers of \"0\" value on each columns: \n",
    "print(\"BMI: \",len(df.loc[df['BMI'] == 0]))\n",
    "print(\"BloodP: \",len(df.loc[df['BloodP'] == 0]))\n",
    "print(\"PlGlcConc: \",len(df.loc[df['PlGlcConc'] == 0]))\n",
    "print(\"SkinThick: \",len(df.loc[df['SkinThick'] == 0]))\n",
    "print(\"TwoHourSerIns: \",len(df.loc[df['TwoHourSerIns'] == 0]))"
   ]
  },
  {
   "cell_type": "code",
   "execution_count": 9,
   "metadata": {},
   "outputs": [],
   "source": [
    "# replace 0 by mean:\n",
    "df[\"BMI\"].replace(to_replace= 0,  value=df[\"BMI\"].median(),  inplace=True)\n",
    "df[\"BloodP\"].replace(to_replace=0,  value=df[\"BloodP\"].mean(),  inplace=True)\n",
    "df[\"PlGlcConc\"].replace(to_replace=0, value=df[\"PlGlcConc\"].mean(), inplace=True)\n",
    "df[\"SkinThick\"].replace(to_replace=0,  value=df[\"SkinThick\"].mean(), inplace=True)\n",
    "df[\"TwoHourSerIns\"].replace(to_replace=0, value=df[\"TwoHourSerIns\"].mean(), inplace=True)"
   ]
  },
  {
   "cell_type": "code",
   "execution_count": 10,
   "metadata": {},
   "outputs": [
    {
     "data": {
      "text/html": [
       "<div>\n",
       "<style scoped>\n",
       "    .dataframe tbody tr th:only-of-type {\n",
       "        vertical-align: middle;\n",
       "    }\n",
       "\n",
       "    .dataframe tbody tr th {\n",
       "        vertical-align: top;\n",
       "    }\n",
       "\n",
       "    .dataframe thead th {\n",
       "        text-align: right;\n",
       "    }\n",
       "</style>\n",
       "<table border=\"1\" class=\"dataframe\">\n",
       "  <thead>\n",
       "    <tr style=\"text-align: right;\">\n",
       "      <th></th>\n",
       "      <th>NumTimesPrg</th>\n",
       "      <th>PlGlcConc</th>\n",
       "      <th>BloodP</th>\n",
       "      <th>SkinThick</th>\n",
       "      <th>TwoHourSerIns</th>\n",
       "      <th>BMI</th>\n",
       "      <th>DiPedFunc</th>\n",
       "      <th>Age</th>\n",
       "      <th>HasDiabetes</th>\n",
       "    </tr>\n",
       "  </thead>\n",
       "  <tbody>\n",
       "    <tr>\n",
       "      <th>0</th>\n",
       "      <td>6</td>\n",
       "      <td>148.0</td>\n",
       "      <td>72.0</td>\n",
       "      <td>35.000000</td>\n",
       "      <td>79.799479</td>\n",
       "      <td>33.6</td>\n",
       "      <td>0.627</td>\n",
       "      <td>50</td>\n",
       "      <td>1</td>\n",
       "    </tr>\n",
       "    <tr>\n",
       "      <th>1</th>\n",
       "      <td>1</td>\n",
       "      <td>85.0</td>\n",
       "      <td>66.0</td>\n",
       "      <td>29.000000</td>\n",
       "      <td>79.799479</td>\n",
       "      <td>26.6</td>\n",
       "      <td>0.351</td>\n",
       "      <td>31</td>\n",
       "      <td>0</td>\n",
       "    </tr>\n",
       "    <tr>\n",
       "      <th>2</th>\n",
       "      <td>8</td>\n",
       "      <td>183.0</td>\n",
       "      <td>64.0</td>\n",
       "      <td>20.536458</td>\n",
       "      <td>79.799479</td>\n",
       "      <td>23.3</td>\n",
       "      <td>0.672</td>\n",
       "      <td>32</td>\n",
       "      <td>1</td>\n",
       "    </tr>\n",
       "    <tr>\n",
       "      <th>3</th>\n",
       "      <td>1</td>\n",
       "      <td>89.0</td>\n",
       "      <td>66.0</td>\n",
       "      <td>23.000000</td>\n",
       "      <td>94.000000</td>\n",
       "      <td>28.1</td>\n",
       "      <td>0.167</td>\n",
       "      <td>21</td>\n",
       "      <td>0</td>\n",
       "    </tr>\n",
       "    <tr>\n",
       "      <th>4</th>\n",
       "      <td>0</td>\n",
       "      <td>137.0</td>\n",
       "      <td>40.0</td>\n",
       "      <td>35.000000</td>\n",
       "      <td>168.000000</td>\n",
       "      <td>43.1</td>\n",
       "      <td>2.288</td>\n",
       "      <td>33</td>\n",
       "      <td>1</td>\n",
       "    </tr>\n",
       "  </tbody>\n",
       "</table>\n",
       "</div>"
      ],
      "text/plain": [
       "   NumTimesPrg  PlGlcConc  BloodP  SkinThick  TwoHourSerIns   BMI  DiPedFunc  \\\n",
       "0            6      148.0    72.0  35.000000      79.799479  33.6      0.627   \n",
       "1            1       85.0    66.0  29.000000      79.799479  26.6      0.351   \n",
       "2            8      183.0    64.0  20.536458      79.799479  23.3      0.672   \n",
       "3            1       89.0    66.0  23.000000      94.000000  28.1      0.167   \n",
       "4            0      137.0    40.0  35.000000     168.000000  43.1      2.288   \n",
       "\n",
       "   Age  HasDiabetes  \n",
       "0   50            1  \n",
       "1   31            0  \n",
       "2   32            1  \n",
       "3   21            0  \n",
       "4   33            1  "
      ]
     },
     "execution_count": 10,
     "metadata": {},
     "output_type": "execute_result"
    }
   ],
   "source": [
    "df.head()"
   ]
  },
  {
   "cell_type": "markdown",
   "metadata": {
    "id": "-8h0P-vLM1kl"
   },
   "source": [
    "## Normalize Data "
   ]
  },
  {
   "cell_type": "markdown",
   "metadata": {
    "id": "GNxKYsijM1km"
   },
   "source": [
    "One of the most important data transformations we need to apply is the features scaling. Basically, most of the machine learning algorithms don't work very well if the features have a different set of values. In our case, for example, the Age ranges from 20 to 80 years old, while the number of times a patient has been pregnant ranges from 0 to 17. For this reason, we need to apply a proper transformation.\n",
    "\n",
    "### 8. Execute Data Standardization using data zero mean and unit variance (don't forget to remove ground truth column before scaling)."
   ]
  },
  {
   "cell_type": "code",
   "execution_count": 11,
   "metadata": {
    "id": "S22D1f6QM1km",
    "outputId": "c7e84367-72e5-444f-84b2-cbb3053753ee"
   },
   "outputs": [
    {
     "data": {
      "text/plain": [
       "array([[ 0.63994726,  0.86527574, -0.0210444 , ...,  0.16724016,\n",
       "         0.46849198,  1.4259954 ],\n",
       "       [-0.84488505, -1.20598931, -0.51658286, ..., -0.85155088,\n",
       "        -0.36506078, -0.19067191],\n",
       "       [ 1.23388019,  2.01597855, -0.68176235, ..., -1.33183808,\n",
       "         0.60439732, -0.10558415],\n",
       "       ...,\n",
       "       [ 0.3429808 , -0.02240928, -0.0210444 , ..., -0.90976751,\n",
       "        -0.68519336, -0.27575966],\n",
       "       [-0.84488505,  0.14197684, -1.01212132, ..., -0.34215536,\n",
       "        -0.37110101,  1.17073215],\n",
       "       [-0.84488505, -0.94297153, -0.18622389, ..., -0.29849289,\n",
       "        -0.47378505, -0.87137393]])"
      ]
     },
     "execution_count": 11,
     "metadata": {},
     "output_type": "execute_result"
    }
   ],
   "source": [
    "#TO DO:\n",
    "\n",
    "# slicing data\n",
    "y=df.HasDiabetes\n",
    "x=df.drop(\"HasDiabetes\",axis=1)\n",
    "\n",
    "# normalize data\n",
    "from sklearn import preprocessing\n",
    "x=preprocessing.StandardScaler().fit(x).transform(x)\n",
    "\n",
    "x"
   ]
  },
  {
   "cell_type": "markdown",
   "metadata": {
    "button": false,
    "id": "oOHQu_2rM1ko",
    "new_sheet": false,
    "run_control": {
     "read_only": false
    }
   },
   "source": [
    "# Splitting the Dataset"
   ]
  },
  {
   "cell_type": "markdown",
   "metadata": {
    "id": "luDui2xtM1ko"
   },
   "source": [
    "Now that we have transformed the data, we need to split the dataset into two parts: a training dataset and a test dataset. Splitting the dataset is a very important step for supervised machine learning models. Basically, we are going to use the first part to train the model (ignoring the column with the pre-assigned label), then we use the trained model to make predictions on new data (which is the test dataset, not part of the training set) and compare the predicted value with the pre-assigned label.\n",
    "\n",
    "### 9. Split the dataset into 80/20 using the stratified technique and random_state=7."
   ]
  },
  {
   "cell_type": "code",
   "execution_count": 12,
   "metadata": {
    "id": "Xfh4QK1oM1kp"
   },
   "outputs": [
    {
     "name": "stdout",
     "output_type": "stream",
     "text": [
      "Train set:  (614, 8) (614,)\n",
      "Test set:  (154, 8) (154,)\n"
     ]
    }
   ],
   "source": [
    "#TO DO:\n",
    "from sklearn.model_selection import train_test_split\n",
    "x_train,x_test,y_train,y_test=train_test_split(x,y,test_size=0.2,random_state=7)\n",
    "\n",
    "print(\"Train set: \", x_train.shape, y_train.shape)\n",
    "print(\"Test set: \", x_test.shape, y_test.shape)"
   ]
  },
  {
   "cell_type": "markdown",
   "metadata": {
    "id": "Yk3Y6qVtM1kq"
   },
   "source": [
    "# Additional Question: \n",
    "### Why should we perform data normalization and data splitting before the training step?\n",
    "Type your answer in the cell bellow as the markdown format."
   ]
  },
  {
   "cell_type": "markdown",
   "metadata": {},
   "source": [
    "# To Do:\n",
    "Because data has different scale "
   ]
  },
  {
   "cell_type": "markdown",
   "metadata": {
    "id": "6PaVBEAwM1ks"
   },
   "source": [
    "### 10. Print out the proportion of positive/total women who have diabetes on the full dataset, training dataset, and testing dataset."
   ]
  },
  {
   "cell_type": "code",
   "execution_count": 13,
   "metadata": {
    "id": "36nXnB7cM1ku",
    "outputId": "59f0f7e2-19e0-4c92-f517-c6fd2d87012d",
    "scrolled": true
   },
   "outputs": [
    {
     "name": "stdout",
     "output_type": "stream",
     "text": [
      "Possitive cases on full dataset: 0.3489583333333333\n",
      "Possitive cases on train set: 0.34364820846905536\n",
      "Possitive cases on test set: 0.37012987012987014\n"
     ]
    }
   ],
   "source": [
    "#TO DO:\n",
    "print(\"Possitive cases on full dataset:\",len(df.loc[df['HasDiabetes'] == 1])/len(df.index))\n",
    "print(\"Possitive cases on train set:\",len(y_train[y_train[:] == 1])/len(y_train))\n",
    "print(\"Possitive cases on test set:\",len(y_test[y_test[:] == 1])/len(y_test))"
   ]
  },
  {
   "cell_type": "markdown",
   "metadata": {
    "button": false,
    "id": "KHXGaCazM1k0",
    "new_sheet": false,
    "run_control": {
     "read_only": false
    }
   },
   "source": [
    "# Classification "
   ]
  },
  {
   "cell_type": "markdown",
   "metadata": {
    "button": false,
    "id": "Q-NwUyDVM1k0",
    "new_sheet": false,
    "run_control": {
     "read_only": false
    }
   },
   "source": [
    "Now, it is your turn, use the training set to build an accurate model. Then use the test set to report the accuracy of the model.\n",
    "\n",
    "You should use the following algorithms:\n",
    "- K Nearest Neighbor(KNN)\n",
    "- Decision Tree\n",
    "- Support Vector Machine\n",
    "- Logistic Regression\n",
    "- Soft voting\n",
    "- Hard voting\n",
    "\n",
    "\n",
    "\n",
    "**__ Notes:__**\n",
    "\n",
    "- You must try to **FINE TUNE AT LEAST 3 PARAMETERS** on each algorithm, except on soft voting and hard voting.\n",
    "- You can go above and change the pre-processing, feature selection, feature extraction, and so on, to make a better model.\n",
    "- You should use either scikit-learn, Scipy or Numpy libraries for developing the classification algorithms.\n",
    "- You should include the code of the algorithm in the following cells."
   ]
  },
  {
   "cell_type": "markdown",
   "metadata": {
    "id": "c8HKeDu9M1k1"
   },
   "source": [
    "# Import Evaluation Metrices"
   ]
  },
  {
   "cell_type": "code",
   "execution_count": 14,
   "metadata": {
    "id": "sZrg6rrsM1k1"
   },
   "outputs": [],
   "source": [
    "from sklearn.metrics import jaccard_score,f1_score"
   ]
  },
  {
   "cell_type": "code",
   "execution_count": 15,
   "metadata": {
    "id": "TBXdCSP-M1k3"
   },
   "outputs": [],
   "source": [
    "# a dictionary for keeping all scores of the classifiers\n",
    "f1_scores = {'train':{'KNN': 0, 'DT': 0, 'SVM': 0, 'LR': 0, 'EN_HARD': 0, 'EN_SOFT': 0},\n",
    "             'test':{'KNN': 0, 'DT': 0, 'SVM': 0, 'LR': 0, 'EN_HARD': 0, 'EN_SOFT': 0}}\n",
    "jaccard_scores = {'train':{'KNN': 0, 'DT': 0, 'SVM': 0, 'LR': 0, 'EN_HARD': 0, 'EN_SOFT': 0}, \n",
    "                  'test':{'KNN': 0, 'DT': 0, 'SVM': 0, 'LR': 0, 'EN_HARD': 0, 'EN_SOFT': 0}}"
   ]
  },
  {
   "cell_type": "markdown",
   "metadata": {
    "id": "ntwqYDm7M1k6"
   },
   "source": [
    "# K Nearest Neighbor(KNN)\n",
    "### 11. Finetune at least 3 parameters to get the KNN model with best accuracy. Then, print out the KNN model's parameters with the best accuracy(best estimator).\n",
    "Hint: Using GridSearchCV in sklearn.model_selection.\n",
    "\n",
    "**Warning:** You should not use the test data for finding the best parameters."
   ]
  },
  {
   "cell_type": "code",
   "execution_count": 16,
   "metadata": {
    "id": "WpD6yCUlM1k7"
   },
   "outputs": [],
   "source": [
    "from sklearn.neighbors import KNeighborsClassifier\n",
    "from sklearn.model_selection import GridSearchCV"
   ]
  },
  {
   "cell_type": "code",
   "execution_count": 17,
   "metadata": {},
   "outputs": [
    {
     "data": {
      "text/plain": [
       "GridSearchCV(cv=5, estimator=KNeighborsClassifier(),\n",
       "             param_grid={'n_neighbors': array([ 1,  2,  3,  4,  5,  6,  7,  8,  9, 10, 11, 12, 13, 14, 15, 16, 17,\n",
       "       18, 19, 20])},\n",
       "             scoring='accuracy')"
      ]
     },
     "execution_count": 17,
     "metadata": {},
     "output_type": "execute_result"
    }
   ],
   "source": [
    "param_grid = dict(n_neighbors=np.arange(1,21)) # set dict k_neighbors\n",
    "knn_model= GridSearchCV(KNeighborsClassifier(),param_grid,cv=5,scoring=\"accuracy\") # xác nhận chéo 5 lần\n",
    "knn_model.fit(x_train,y_train) # fit model"
   ]
  },
  {
   "cell_type": "code",
   "execution_count": 18,
   "metadata": {},
   "outputs": [
    {
     "name": "stdout",
     "output_type": "stream",
     "text": [
      "Best score: 0.771931 using KNeighborsClassifier(n_neighbors=19)\n",
      "\n",
      "0.672598 (0.043154) with: {'n_neighbors': 1}\n",
      "0.692216 (0.027989) with: {'n_neighbors': 2}\n",
      "0.710129 (0.021770) with: {'n_neighbors': 3}\n",
      "0.716660 (0.019553) with: {'n_neighbors': 4}\n",
      "0.729655 (0.016352) with: {'n_neighbors': 5}\n",
      "0.710129 (0.011412) with: {'n_neighbors': 6}\n",
      "0.736186 (0.014574) with: {'n_neighbors': 7}\n",
      "0.714981 (0.019936) with: {'n_neighbors': 8}\n",
      "0.729615 (0.025164) with: {'n_neighbors': 9}\n",
      "0.731267 (0.034504) with: {'n_neighbors': 10}\n",
      "0.736159 (0.030212) with: {'n_neighbors': 11}\n",
      "0.723097 (0.032773) with: {'n_neighbors': 12}\n",
      "0.744289 (0.031607) with: {'n_neighbors': 13}\n",
      "0.739411 (0.027222) with: {'n_neighbors': 14}\n",
      "0.763788 (0.042436) with: {'n_neighbors': 15}\n",
      "0.762202 (0.032366) with: {'n_neighbors': 16}\n",
      "0.758910 (0.037977) with: {'n_neighbors': 17}\n",
      "0.752406 (0.036480) with: {'n_neighbors': 18}\n",
      "0.771931 (0.042425) with: {'n_neighbors': 19}\n",
      "0.758936 (0.050112) with: {'n_neighbors': 20}\n"
     ]
    }
   ],
   "source": [
    "# print out parameters with scores\n",
    "print(\"Best score: %f using %s\" % (knn_model.best_score_, knn_model.best_estimator_))\n",
    "print(\"\")\n",
    "means = knn_model.cv_results_['mean_test_score']\n",
    "stds = knn_model.cv_results_['std_test_score']\n",
    "params = knn_model.cv_results_['params']\n",
    "for mean, stdev, param in zip(means, stds, params):\n",
    "    print(\"%f (%f) with: %r\" % (mean, stdev, param))"
   ]
  },
  {
   "cell_type": "markdown",
   "metadata": {
    "id": "QLvhv6JrM1lA"
   },
   "source": [
    "# Additional Question: \n",
    "### Interpret and explain the parameters you have chosen to fine tune in KNN algorithm.\n",
    "Type your answer in the cell bellow as markdown format."
   ]
  },
  {
   "cell_type": "markdown",
   "metadata": {
    "id": "qaJt1GeEM1lA"
   },
   "source": [
    "### TO DO: \n",
    "I choose these parameter based on the correlation between every parameter x and y"
   ]
  },
  {
   "cell_type": "markdown",
   "metadata": {
    "id": "GsPgXPEpM1lB"
   },
   "source": [
    "### 12. Run the prediction on KNN models on training data and test data, then calculate the f1 score and Jaccard similarity score and save it to f1_scores dict and jaccard_scores dict.  \n",
    "**Requirement**: F1 score on test data must be higher than **0.6**, Jaccard similarity score must be higher than **0.75**."
   ]
  },
  {
   "cell_type": "code",
   "execution_count": 38,
   "metadata": {},
   "outputs": [
    {
     "name": "stdout",
     "output_type": "stream",
     "text": [
      "F1_scores: {'train': {'KNN': 0.6631578947368421, 'DT': 0, 'SVM': 0, 'LR': 0, 'EN_HARD': 0, 'EN_SOFT': 0}, 'test': {'KNN': 0.7010309278350515, 'DT': 0, 'SVM': 0, 'LR': 0, 'EN_HARD': 0, 'EN_SOFT': 0}}\n",
      "Jaccard_score: {'train': {'KNN': 0.49606299212598426, 'DT': 0, 'SVM': 0, 'LR': 0, 'EN_HARD': 0, 'EN_SOFT': 0}, 'test': {'KNN': 0.5396825396825397, 'DT': 0, 'SVM': 0, 'LR': 0, 'EN_HARD': 0, 'EN_SOFT': 0}}\n"
     ]
    }
   ],
   "source": [
    "# predict y_hat with train set and test set\n",
    "from sklearn.metrics import jaccard_score,f1_score\n",
    "\n",
    "f1_scores = {'train':{'KNN':f1_score(y_train, knn_model.predict(x_train)), \n",
    "                      'DT': 0, 'SVM': 0, 'LR': 0, 'EN_HARD': 0, 'EN_SOFT': 0},\n",
    "             'test':{'KNN': f1_score(y_test, knn_model.predict(x_test)), \n",
    "                     'DT': 0, 'SVM': 0, 'LR': 0, 'EN_HARD': 0, 'EN_SOFT': 0}}\n",
    "\n",
    "jaccard_scores = {'train':{'KNN': jaccard_score(y_train, knn_model.predict(x_train)), \n",
    "                           'DT': 0, 'SVM': 0, 'LR': 0, 'EN_HARD': 0, 'EN_SOFT': 0}, \n",
    "                  'test':{'KNN': jaccard_score(y_test, knn_model.predict(x_test)), \n",
    "                          'DT': 0, 'SVM': 0, 'LR': 0, 'EN_HARD': 0, 'EN_SOFT': 0}}\n",
    "\n",
    "print(\"F1_scores:\",f1_scores)\n",
    "print(\"Jaccard_score:\",jaccard_scores)"
   ]
  },
  {
   "cell_type": "markdown",
   "metadata": {
    "id": "NXIl2GGLM1lE"
   },
   "source": [
    "# Decision Tree"
   ]
  },
  {
   "cell_type": "markdown",
   "metadata": {
    "id": "kW11u1k6M1lF"
   },
   "source": [
    "### 13, 14. Perform task 11 and 12 on the DT model.\n",
    "\n",
    "Hint: Using GridSearchCV in sklearn.model_selection.\n",
    "\n",
    "**Warning**: You should not use the test data for finding the best parameters.\n",
    "\n",
    "**Requirement**: F1 score on test data has to higher than **0.6**, the Jaccard similarity score must be higher than **0.73**."
   ]
  },
  {
   "cell_type": "code",
   "execution_count": 39,
   "metadata": {
    "id": "CnE8pvjvM1lG"
   },
   "outputs": [],
   "source": [
    "from sklearn import tree\n",
    "from sklearn.model_selection import GridSearchCV"
   ]
  },
  {
   "cell_type": "code",
   "execution_count": 72,
   "metadata": {},
   "outputs": [
    {
     "data": {
      "text/plain": [
       "GridSearchCV(cv=5, estimator=DecisionTreeClassifier(criterion='entropy'),\n",
       "             param_grid={'max_leaf_nodes': [2, 3, 4, 5, 6, 7, 8, 9, 10, 11, 12,\n",
       "                                            13, 14, 15, 16, 17, 18, 19, 20]})"
      ]
     },
     "execution_count": 72,
     "metadata": {},
     "output_type": "execute_result"
    }
   ],
   "source": [
    "params = {'max_leaf_nodes': list(range(2, 21))}\n",
    "tree_model = GridSearchCV(tree.DecisionTreeClassifier(criterion=\"entropy\"), params, cv=5)\n",
    "tree_model.fit(x_train, y_train)"
   ]
  },
  {
   "cell_type": "code",
   "execution_count": 73,
   "metadata": {},
   "outputs": [
    {
     "name": "stdout",
     "output_type": "stream",
     "text": [
      "Best score: 0.750780 using DecisionTreeClassifier(criterion='entropy', max_leaf_nodes=15)\n",
      "\n",
      "0.698707 (0.039743) with: {'max_leaf_nodes': 2}\n",
      "0.716593 (0.016088) with: {'max_leaf_nodes': 3}\n",
      "0.726376 (0.015204) with: {'max_leaf_nodes': 4}\n",
      "0.731254 (0.011848) with: {'max_leaf_nodes': 5}\n",
      "0.731254 (0.017292) with: {'max_leaf_nodes': 6}\n",
      "0.747568 (0.022282) with: {'max_leaf_nodes': 7}\n",
      "0.747568 (0.022282) with: {'max_leaf_nodes': 8}\n",
      "0.747568 (0.022282) with: {'max_leaf_nodes': 9}\n",
      "0.744316 (0.020747) with: {'max_leaf_nodes': 10}\n",
      "0.737772 (0.021600) with: {'max_leaf_nodes': 11}\n",
      "0.747528 (0.023881) with: {'max_leaf_nodes': 12}\n",
      "0.747528 (0.023881) with: {'max_leaf_nodes': 13}\n",
      "0.747528 (0.023881) with: {'max_leaf_nodes': 14}\n",
      "0.750780 (0.029662) with: {'max_leaf_nodes': 15}\n",
      "0.736146 (0.016090) with: {'max_leaf_nodes': 16}\n",
      "0.723084 (0.022382) with: {'max_leaf_nodes': 17}\n",
      "0.721445 (0.026531) with: {'max_leaf_nodes': 18}\n",
      "0.719819 (0.028978) with: {'max_leaf_nodes': 19}\n",
      "0.723071 (0.023158) with: {'max_leaf_nodes': 20}\n"
     ]
    }
   ],
   "source": [
    "print(\"Best score: %f using %s\" % (tree_model.best_score_, tree_model.best_estimator_))\n",
    "print(\"\")\n",
    "means = tree_model.cv_results_['mean_test_score']\n",
    "stds = tree_model.cv_results_['std_test_score']\n",
    "params = tree_model.cv_results_['params']\n",
    "for mean, stdev, param in zip(means, stds, params):\n",
    "    print(\"%f (%f) with: %r\" % (mean, stdev, param))"
   ]
  },
  {
   "cell_type": "code",
   "execution_count": 74,
   "metadata": {},
   "outputs": [
    {
     "name": "stdout",
     "output_type": "stream",
     "text": [
      "F1_scores: {'train': {'KNN': 0.6631578947368421, 'DT': 0.7052341597796143, 'SVM': 0, 'LR': 0, 'EN_HARD': 0, 'EN_SOFT': 0}, 'test': {'KNN': 0.7010309278350515, 'DT': 0.6382978723404256, 'SVM': 0, 'LR': 0, 'EN_HARD': 0, 'EN_SOFT': 0}}\n",
      "Jaccard_score: {'train': {'KNN': 0.49606299212598426, 'DT': 0.5446808510638298, 'SVM': 0, 'LR': 0, 'EN_HARD': 0, 'EN_SOFT': 0}, 'test': {'KNN': 0.5396825396825397, 'DT': 0.46875, 'SVM': 0, 'LR': 0, 'EN_HARD': 0, 'EN_SOFT': 0}}\n"
     ]
    }
   ],
   "source": [
    "# calculate metrics\n",
    "from sklearn.metrics import jaccard_score,f1_score\n",
    "\n",
    "# calculating scores\n",
    "f1_scores = {'train':{'KNN':f1_score(y_train,knn_model.predict(x_train)), \n",
    "                      'DT': f1_score(y_train,tree_model.predict(x_train)),'SVM': 0, 'LR': 0, 'EN_HARD': 0, 'EN_SOFT': 0},\n",
    "             'test':{'KNN': f1_score(y_test,knn_model.predict(x_test)), \n",
    "                     'DT': f1_score(y_test,tree_model.predict(x_test)), 'SVM': 0, 'LR': 0, 'EN_HARD': 0, 'EN_SOFT': 0}}\n",
    "jaccard_scores = {'train':{'KNN': jaccard_score(y_train, knn_model.predict(x_train)), \n",
    "                           'DT': jaccard_score(y_train, tree_model.predict(x_train)), 'SVM': 0, 'LR': 0, 'EN_HARD': 0, 'EN_SOFT': 0}, \n",
    "                  'test':{'KNN': jaccard_score(y_test, knn_model.predict(x_test)), \n",
    "                          'DT': jaccard_score(y_test, tree_model.predict(x_test)), 'SVM': 0, 'LR': 0, 'EN_HARD': 0, 'EN_SOFT': 0}}\n",
    "\n",
    "print(\"F1_scores:\",f1_scores)\n",
    "print(\"Jaccard_score:\",jaccard_scores)"
   ]
  },
  {
   "cell_type": "markdown",
   "metadata": {
    "id": "0ZjQch2RM1lL"
   },
   "source": [
    "# Additional Question: \n",
    "### Interpret and explain the parameters you have chosen to fine tune in DT algorithm.\n",
    "Type your answer in the cell bellow as the markdown format."
   ]
  },
  {
   "cell_type": "markdown",
   "metadata": {
    "id": "nd4a59C6M1lQ"
   },
   "source": [
    "# Support Vector Machine"
   ]
  },
  {
   "cell_type": "markdown",
   "metadata": {
    "id": "sn_wfdWpM1lR"
   },
   "source": [
    "### 15, 16. Perform task 11 and 12 on SVM models.\n",
    "\n",
    "Hint: Using GridSearchCV in sklearn.model_selection.\n",
    "\n",
    "**Warning**: You should not use the test data for finding the best parameters.\n",
    "\n",
    "**Requirement**: F1 score on test data has to higher than **0.62**, Jaccard similarity score must be higher than **0.75**."
   ]
  },
  {
   "cell_type": "code",
   "execution_count": 75,
   "metadata": {
    "id": "WUwo79EMM1lR"
   },
   "outputs": [],
   "source": [
    "from sklearn.svm import SVC "
   ]
  },
  {
   "cell_type": "code",
   "execution_count": 76,
   "metadata": {
    "id": "JMxZtQa8M1lT"
   },
   "outputs": [
    {
     "data": {
      "text/plain": [
       "GridSearchCV(cv=5, estimator=SVC(probability=True),\n",
       "             param_grid={'C': [0.1, 1, 10], 'gamma': [1, 0.1, 0.01],\n",
       "                         'kernel': ['rbf', 'sigmoid']})"
      ]
     },
     "execution_count": 76,
     "metadata": {},
     "output_type": "execute_result"
    }
   ],
   "source": [
    "#TO DO:\n",
    "params = {'C': [0.1, 1, 10], 'gamma': [1,0.1,0.01],'kernel': ['rbf','sigmoid']}\n",
    "svm_model= GridSearchCV(SVC(probability=True), params, cv=5)\n",
    "svm_model.fit(x_train, y_train)"
   ]
  },
  {
   "cell_type": "code",
   "execution_count": 77,
   "metadata": {},
   "outputs": [
    {
     "name": "stdout",
     "output_type": "stream",
     "text": [
      "Best score: 0.775237 using SVC(C=10, gamma=0.01, kernel='sigmoid', probability=True)\n",
      "\n",
      "0.656351 (0.003164) with: {'C': 0.1, 'gamma': 1, 'kernel': 'rbf'}\n",
      "0.680821 (0.043476) with: {'C': 0.1, 'gamma': 1, 'kernel': 'sigmoid'}\n",
      "0.731294 (0.016676) with: {'C': 0.1, 'gamma': 0.1, 'kernel': 'rbf'}\n",
      "0.765507 (0.035928) with: {'C': 0.1, 'gamma': 0.1, 'kernel': 'sigmoid'}\n",
      "0.656351 (0.003164) with: {'C': 0.1, 'gamma': 0.01, 'kernel': 'rbf'}\n",
      "0.656351 (0.003164) with: {'C': 0.1, 'gamma': 0.01, 'kernel': 'sigmoid'}\n",
      "0.667800 (0.035358) with: {'C': 1, 'gamma': 1, 'kernel': 'rbf'}\n",
      "0.641703 (0.054343) with: {'C': 1, 'gamma': 1, 'kernel': 'sigmoid'}\n",
      "0.747594 (0.028319) with: {'C': 1, 'gamma': 0.1, 'kernel': 'rbf'}\n",
      "0.760576 (0.016876) with: {'C': 1, 'gamma': 0.1, 'kernel': 'sigmoid'}\n",
      "0.767106 (0.026461) with: {'C': 1, 'gamma': 0.01, 'kernel': 'rbf'}\n",
      "0.770332 (0.032466) with: {'C': 1, 'gamma': 0.01, 'kernel': 'sigmoid'}\n",
      "0.667800 (0.036823) with: {'C': 10, 'gamma': 1, 'kernel': 'rbf'}\n",
      "0.628682 (0.053947) with: {'C': 10, 'gamma': 1, 'kernel': 'sigmoid'}\n",
      "0.736159 (0.019595) with: {'C': 10, 'gamma': 0.1, 'kernel': 'rbf'}\n",
      "0.711742 (0.046913) with: {'C': 10, 'gamma': 0.1, 'kernel': 'sigmoid'}\n",
      "0.755684 (0.033037) with: {'C': 10, 'gamma': 0.01, 'kernel': 'rbf'}\n",
      "0.775237 (0.034383) with: {'C': 10, 'gamma': 0.01, 'kernel': 'sigmoid'}\n"
     ]
    }
   ],
   "source": [
    "print(\"Best score: %f using %s\" % (svm_model.best_score_, svm_model.best_estimator_))\n",
    "print(\"\")\n",
    "means = svm_model.cv_results_['mean_test_score']\n",
    "stds = svm_model.cv_results_['std_test_score']\n",
    "params = svm_model.cv_results_['params']\n",
    "for mean, stdev, param in zip(means, stds, params):\n",
    "    print(\"%f (%f) with: %r\" % (mean, stdev, param))"
   ]
  },
  {
   "cell_type": "code",
   "execution_count": 78,
   "metadata": {},
   "outputs": [
    {
     "name": "stdout",
     "output_type": "stream",
     "text": [
      "F1_scores: {'train': {'KNN': 0.6631578947368421, 'DT': 0.7052341597796143, 'SVM': 0.6341463414634145, 'LR': 0, 'EN_HARD': 0, 'EN_SOFT': 0}, 'test': {'KNN': 0.7010309278350515, 'DT': 0.6382978723404256, 'SVM': 0.6391752577319588, 'LR': 0, 'EN_HARD': 0, 'EN_SOFT': 0}}\n",
      "Jaccard_score: {'train': {'KNN': 0.49606299212598426, 'DT': 0.5446808510638298, 'SVM': 0.4642857142857143, 'LR': 0, 'EN_HARD': 0, 'EN_SOFT': 0}, 'test': {'KNN': 0.5396825396825397, 'DT': 0.46875, 'SVM': 0.4696969696969697, 'LR': 0, 'EN_HARD': 0, 'EN_SOFT': 0}}\n"
     ]
    }
   ],
   "source": [
    "# calculate metrics\n",
    "from sklearn.metrics import jaccard_score,f1_score\n",
    "\n",
    "# calculating scores\n",
    "f1_scores = {'train':{'KNN':f1_score(y_train,knn_model.predict(x_train)), \n",
    "                      'DT': f1_score(y_train,tree_model.predict(x_train)), \n",
    "                      'SVM': f1_score(y_train,svm_model.predict(x_train)), 'LR': 0, 'EN_HARD': 0, 'EN_SOFT': 0},\n",
    "             'test':{'KNN': f1_score(y_test,knn_model.predict(x_test)), \n",
    "                     'DT': f1_score(y_test,tree_model.predict(x_test)), \n",
    "                     'SVM': f1_score(y_test,svm_model.predict(x_test)), 'LR': 0, 'EN_HARD': 0, 'EN_SOFT': 0}}\n",
    "jaccard_scores = {'train':{'KNN': jaccard_score(y_train, knn_model.predict(x_train)), \n",
    "                           'DT': jaccard_score(y_train, tree_model.predict(x_train)), \n",
    "                           'SVM': jaccard_score(y_train, svm_model.predict(x_train)), 'LR': 0, 'EN_HARD': 0, 'EN_SOFT': 0}, \n",
    "                  'test':{'KNN': jaccard_score(y_test, knn_model.predict(x_test)), \n",
    "                          'DT': jaccard_score(y_test, tree_model.predict(x_test)), \n",
    "                          'SVM': jaccard_score(y_test, svm_model.predict(x_test)), 'LR': 0, 'EN_HARD': 0, 'EN_SOFT': 0}}\n",
    "\n",
    "print(\"F1_scores:\",f1_scores)\n",
    "print(\"Jaccard_score:\",jaccard_scores)"
   ]
  },
  {
   "cell_type": "markdown",
   "metadata": {
    "id": "03XgTdoPM1lW"
   },
   "source": [
    "# Additional Question: \n",
    "### Interpret and explain the parameters you have chosen to fine tune in SVM algorithm.\n",
    "Type your answer in the cell bellow as the markdown format."
   ]
  },
  {
   "cell_type": "markdown",
   "metadata": {
    "id": "wz0N8-CIM1lW"
   },
   "source": [
    "### TO DO:\n"
   ]
  },
  {
   "cell_type": "markdown",
   "metadata": {
    "id": "xRVAKHEkM1la"
   },
   "source": [
    "# Logistic Regression"
   ]
  },
  {
   "cell_type": "markdown",
   "metadata": {
    "id": "nTQkBQIXM1la"
   },
   "source": [
    "### 17, 18. Perform task 11 and 12 on Logistic Regression model.\n",
    "\n",
    "Hint: Using GridSearchCV in sklearn.model_selection.\n",
    "\n",
    "**Warning**: You should not use the test data for finding the best parameters.\n",
    "\n",
    "**Requirement**: F1 score on test data has to higher than **0.63**, Jaccard similarity score must be higher than **0.75**."
   ]
  },
  {
   "cell_type": "code",
   "execution_count": 79,
   "metadata": {
    "id": "cWFYayQLM1lb"
   },
   "outputs": [],
   "source": [
    "from sklearn.linear_model import LogisticRegression"
   ]
  },
  {
   "cell_type": "code",
   "execution_count": 80,
   "metadata": {
    "id": "7szXdAHTM1lc"
   },
   "outputs": [
    {
     "data": {
      "text/plain": [
       "GridSearchCV(cv=5, estimator=LogisticRegression(),\n",
       "             param_grid={'C': [0.1, 1, 10]})"
      ]
     },
     "execution_count": 80,
     "metadata": {},
     "output_type": "execute_result"
    }
   ],
   "source": [
    "#TO DO:\n",
    "lrc_model= GridSearchCV(LogisticRegression(), param_grid={'C': [0.1, 1,10]}, cv=5) \n",
    "lrc_model.fit(x_train, y_train)"
   ]
  },
  {
   "cell_type": "code",
   "execution_count": 81,
   "metadata": {},
   "outputs": [
    {
     "name": "stdout",
     "output_type": "stream",
     "text": [
      "Best score: 0.770359 using LogisticRegression(C=10)\n",
      "\n",
      "0.765480 (0.036806) with: {'C': 0.1}\n",
      "0.768733 (0.036187) with: {'C': 1}\n",
      "0.770359 (0.038607) with: {'C': 10}\n"
     ]
    }
   ],
   "source": [
    "print(\"Best score: %f using %s\" % (lrc_model.best_score_, lrc_model.best_estimator_))\n",
    "print(\"\")\n",
    "means = lrc_model.cv_results_['mean_test_score']\n",
    "stds = lrc_model.cv_results_['std_test_score']\n",
    "params = lrc_model.cv_results_['params']\n",
    "for mean, stdev, param in zip(means, stds, params):\n",
    "    print(\"%f (%f) with: %r\" % (mean, stdev, param))"
   ]
  },
  {
   "cell_type": "code",
   "execution_count": 82,
   "metadata": {},
   "outputs": [
    {
     "name": "stdout",
     "output_type": "stream",
     "text": [
      "F1_scores: {'train': {'KNN': 0.6631578947368421, 'DT': 0.7052341597796143, 'SVM': 0.6341463414634145, 'LR': 0.6310160427807486, 'EN_HARD': 0, 'EN_SOFT': 0}, 'test': {'KNN': 0.7010309278350515, 'DT': 0.6382978723404256, 'SVM': 0.6391752577319588, 'LR': 0.6534653465346535, 'EN_HARD': 0, 'EN_SOFT': 0}}\n",
      "Jaccard_score: {'train': {'KNN': 0.49606299212598426, 'DT': 0.5446808510638298, 'SVM': 0.4642857142857143, 'LR': 0.4609375, 'EN_HARD': 0, 'EN_SOFT': 0}, 'test': {'KNN': 0.5396825396825397, 'DT': 0.46875, 'SVM': 0.4696969696969697, 'LR': 0.4852941176470588, 'EN_HARD': 0, 'EN_SOFT': 0}}\n"
     ]
    }
   ],
   "source": [
    "from sklearn.metrics import jaccard_score,f1_score\n",
    "\n",
    "# calculating scores\n",
    "f1_scores = {'train':{'KNN':f1_score(y_train,knn_model.predict(x_train)), \n",
    "                      'DT': f1_score(y_train,tree_model.predict(x_train)), \n",
    "                      'SVM': f1_score(y_train,svm_model.predict(x_train)), \n",
    "                      'LR': f1_score(y_train,lrc_model.predict(x_train)), 'EN_HARD': 0, 'EN_SOFT': 0},\n",
    "             'test':{'KNN': f1_score(y_test,knn_model.predict(x_test)), \n",
    "                     'DT': f1_score(y_test,tree_model.predict(x_test)), \n",
    "                     'SVM': f1_score(y_test,svm_model.predict(x_test)), \n",
    "                     'LR': f1_score(y_test,lrc_model.predict(x_test)), 'EN_HARD': 0, 'EN_SOFT': 0}}\n",
    "jaccard_scores = {'train':{'KNN': jaccard_score(y_train, knn_model.predict(x_train)), \n",
    "                           'DT': jaccard_score(y_train, tree_model.predict(x_train)), \n",
    "                           'SVM': jaccard_score(y_train, svm_model.predict(x_train)), \n",
    "                           'LR': jaccard_score(y_train, lrc_model.predict(x_train)), 'EN_HARD': 0, 'EN_SOFT': 0}, \n",
    "                  'test':{'KNN': jaccard_score(y_test, knn_model.predict(x_test)), \n",
    "                          'DT': jaccard_score(y_test, tree_model.predict(x_test)), \n",
    "                          'SVM': jaccard_score(y_test, svm_model.predict(x_test)), \n",
    "                          'LR': jaccard_score(y_test,lrc_model.predict(x_test)), 'EN_HARD': 0, 'EN_SOFT': 0}}\n",
    "\n",
    "print(\"F1_scores:\",f1_scores)\n",
    "print(\"Jaccard_score:\",jaccard_scores)"
   ]
  },
  {
   "cell_type": "markdown",
   "metadata": {
    "id": "pfPytCDYM1le"
   },
   "source": [
    "# Additional Question: \n",
    "### Interpret and explain the parameters you have chosen to fine tune in LR algorithm.\n",
    "Type your answer in the cell bellow as the markdown format."
   ]
  },
  {
   "cell_type": "markdown",
   "metadata": {
    "id": "RmPs5O5RM1lf"
   },
   "source": [
    "### TO DO:\n"
   ]
  },
  {
   "cell_type": "markdown",
   "metadata": {
    "id": "xhThcwLYM1li"
   },
   "source": [
    "# Advanced part (15%  of the total score)"
   ]
  },
  {
   "cell_type": "markdown",
   "metadata": {
    "id": "eRc5JoN7M1lo"
   },
   "source": [
    "# Ensemble model"
   ]
  },
  {
   "cell_type": "markdown",
   "metadata": {
    "id": "8-eteyNxM1lo"
   },
   "source": [
    "### 19. Perform soft voting on the 4 above models (using the same setting for the 4 models as in previous steps.) \n",
    "**Hint**: Using VotingClassifier in sklearn.ensemble."
   ]
  },
  {
   "cell_type": "code",
   "execution_count": 83,
   "metadata": {
    "id": "G7FfposgM1lp"
   },
   "outputs": [],
   "source": [
    "from sklearn.ensemble import VotingClassifier"
   ]
  },
  {
   "cell_type": "code",
   "execution_count": 84,
   "metadata": {
    "id": "J-EjCxe6M1ls"
   },
   "outputs": [
    {
     "data": {
      "text/plain": [
       "VotingClassifier(estimators=[('knn',\n",
       "                              GridSearchCV(cv=5,\n",
       "                                           estimator=KNeighborsClassifier(),\n",
       "                                           param_grid={'n_neighbors': array([ 1,  2,  3,  4,  5,  6,  7,  8,  9, 10, 11, 12, 13, 14, 15, 16, 17,\n",
       "       18, 19, 20])},\n",
       "                                           scoring='accuracy')),\n",
       "                             ('tree',\n",
       "                              GridSearchCV(cv=5,\n",
       "                                           estimator=DecisionTreeClassifier(criterion='entropy'),\n",
       "                                           param_grid={'max_leaf_nodes': [2, 3,\n",
       "                                                                          4, 5,\n",
       "                                                                          6, 7,\n",
       "                                                                          8, 9,\n",
       "                                                                          10,\n",
       "                                                                          11,\n",
       "                                                                          12,\n",
       "                                                                          13,\n",
       "                                                                          14,\n",
       "                                                                          15,\n",
       "                                                                          16,\n",
       "                                                                          17,\n",
       "                                                                          18,\n",
       "                                                                          19,\n",
       "                                                                          20]})),\n",
       "                             ('svm',\n",
       "                              GridSearchCV(cv=5,\n",
       "                                           estimator=SVC(probability=True),\n",
       "                                           param_grid={'C': [0.1, 1, 10],\n",
       "                                                       'gamma': [1, 0.1, 0.01],\n",
       "                                                       'kernel': ['rbf',\n",
       "                                                                  'sigmoid']})),\n",
       "                             ('lrc',\n",
       "                              GridSearchCV(cv=5, estimator=LogisticRegression(),\n",
       "                                           param_grid={'C': [0.1, 1, 10]}))],\n",
       "                 voting='soft')"
      ]
     },
     "execution_count": 84,
     "metadata": {},
     "output_type": "execute_result"
    }
   ],
   "source": [
    "#TO DO:\n",
    "#create a dictionary of our models\n",
    "estimator=[('knn', knn_model), ('tree', tree_model), ('svm', svm_model), ('lrc', lrc_model)]\n",
    "\n",
    "#create our voting classifier, inputting our models\n",
    "soft_model = VotingClassifier(estimators=estimator,voting=\"soft\")\n",
    "soft_model.fit(x_train,y_train)"
   ]
  },
  {
   "cell_type": "code",
   "execution_count": 85,
   "metadata": {},
   "outputs": [
    {
     "name": "stdout",
     "output_type": "stream",
     "text": [
      "Best score: 0.770359 using LogisticRegression(C=10)\n",
      "\n",
      "0.765480 (0.036806) with: {'C': 0.1}\n",
      "0.768733 (0.036187) with: {'C': 1}\n",
      "0.770359 (0.038607) with: {'C': 10}\n"
     ]
    }
   ],
   "source": [
    "print(\"Best score: %f using %s\" % (lrc_model.best_score_, lrc_model.best_estimator_))\n",
    "print(\"\")\n",
    "means = lrc_model.cv_results_['mean_test_score']\n",
    "stds = lrc_model.cv_results_['std_test_score']\n",
    "params = lrc_model.cv_results_['params']\n",
    "for mean, stdev, param in zip(means, stds, params):\n",
    "    print(\"%f (%f) with: %r\" % (mean, stdev, param))"
   ]
  },
  {
   "cell_type": "markdown",
   "metadata": {
    "id": "vZu5N_i3M1lu"
   },
   "source": [
    "### 20. Run the prediction on the ensembling model using soft voting on training data and test data, then calculate the f1 score and Jaccard similarity score and save it to f1_scores dict and jaccard_scores dict.¶\n",
    "\n",
    "**Requirement**: F1 score on test data must be higher than **0.66**, Jaccard similarity score must be higher than **0.78**."
   ]
  },
  {
   "cell_type": "code",
   "execution_count": 86,
   "metadata": {
    "id": "SeuL7a0rM1lu",
    "outputId": "d8bb60eb-eb8d-4bcc-d478-d96b8673e3bf"
   },
   "outputs": [
    {
     "name": "stdout",
     "output_type": "stream",
     "text": [
      "F1_scores: {'train': {'KNN': 0.6631578947368421, 'DT': 0.7052341597796143, 'SVM': 0.6341463414634145, 'LR': 0.6310160427807486, 'EN_HARD': 0, 'EN_SOFT': 0.6666666666666667}, 'test': {'KNN': 0.7010309278350515, 'DT': 0.6382978723404256, 'SVM': 0.6391752577319588, 'LR': 0.6534653465346535, 'EN_HARD': 0, 'EN_SOFT': 0.6947368421052632}}\n",
      "Jaccard_score: {'train': {'KNN': 0.49606299212598426, 'DT': 0.5446808510638298, 'SVM': 0.4642857142857143, 'LR': 0.4609375, 'EN_HARD': 0, 'EN_SOFT': 0.5}, 'test': {'KNN': 0.5396825396825397, 'DT': 0.46875, 'SVM': 0.4696969696969697, 'LR': 0.4852941176470588, 'EN_HARD': 0, 'EN_SOFT': 0.532258064516129}}\n"
     ]
    }
   ],
   "source": [
    "#TO DO:\n",
    "f1_scores = {'train':{'KNN':f1_score(y_train,knn_model.predict(x_train)), \n",
    "                      'DT': f1_score(y_train,tree_model.predict(x_train)), \n",
    "                      'SVM': f1_score(y_train,svm_model.predict(x_train)), \n",
    "                      'LR': f1_score(y_train,lrc_model.predict(x_train)), \n",
    "                      'EN_HARD': 0, 'EN_SOFT': f1_score(y_train,soft_model.predict(x_train))},\n",
    "             'test':{'KNN': f1_score(y_test,knn_model.predict(x_test)), \n",
    "                     'DT': f1_score(y_test,tree_model.predict(x_test)), \n",
    "                     'SVM': f1_score(y_test,svm_model.predict(x_test)), \n",
    "                     'LR': f1_score(y_test,lrc_model.predict(x_test)), \n",
    "                     'EN_HARD': 0, 'EN_SOFT': f1_score(y_test,soft_model.predict(x_test))}}\n",
    "jaccard_scores = {'train':{'KNN': jaccard_score(y_train, knn_model.predict(x_train)), \n",
    "                           'DT': jaccard_score(y_train, tree_model.predict(x_train)), \n",
    "                           'SVM': jaccard_score(y_train, svm_model.predict(x_train)), \n",
    "                           'LR': jaccard_score(y_train, lrc_model.predict(x_train)), \n",
    "                           'EN_HARD': 0, 'EN_SOFT': jaccard_score(y_train,soft_model.predict(x_train))}, \n",
    "                  'test':{'KNN': jaccard_score(y_test, knn_model.predict(x_test)), \n",
    "                          'DT': jaccard_score(y_test, tree_model.predict(x_test)), \n",
    "                          'SVM': jaccard_score(y_test, svm_model.predict(x_test)), \n",
    "                          'LR': jaccard_score(y_test,lrc_model.predict(x_test)), \n",
    "                          'EN_HARD': 0, 'EN_SOFT': jaccard_score(y_test,soft_model.predict(x_test))}}\n",
    "\n",
    "print(\"F1_scores:\",f1_scores)\n",
    "print(\"Jaccard_score:\",jaccard_scores)"
   ]
  },
  {
   "cell_type": "markdown",
   "metadata": {
    "id": "d9vVirtTM1lw"
   },
   "source": [
    "### 21, 22. Perform task 19 and 20 using hard voting.\n",
    "Hint: Using GridSearchCV in sklearn.model_selection.\n",
    "\n",
    "**Warning**: You should not use the test data for finding the best parameters.\n",
    "\n",
    "**Requirement**: F1 score on test data must be higher than **0.57**, Jaccard similarity score must be higher than **0.73**."
   ]
  },
  {
   "cell_type": "code",
   "execution_count": 87,
   "metadata": {
    "id": "0n-qRxd5M1lx"
   },
   "outputs": [
    {
     "data": {
      "text/plain": [
       "VotingClassifier(estimators=[('knn',\n",
       "                              GridSearchCV(cv=5,\n",
       "                                           estimator=KNeighborsClassifier(),\n",
       "                                           param_grid={'n_neighbors': array([ 1,  2,  3,  4,  5,  6,  7,  8,  9, 10, 11, 12, 13, 14, 15, 16, 17,\n",
       "       18, 19, 20])},\n",
       "                                           scoring='accuracy')),\n",
       "                             ('tree',\n",
       "                              GridSearchCV(cv=5,\n",
       "                                           estimator=DecisionTreeClassifier(criterion='entropy'),\n",
       "                                           param_grid={'max_leaf_nodes': [2, 3,\n",
       "                                                                          4, 5,\n",
       "                                                                          6, 7,\n",
       "                                                                          8, 9,\n",
       "                                                                          10,\n",
       "                                                                          11,\n",
       "                                                                          12,\n",
       "                                                                          13,\n",
       "                                                                          14,\n",
       "                                                                          15,\n",
       "                                                                          16,\n",
       "                                                                          17,\n",
       "                                                                          18,\n",
       "                                                                          19,\n",
       "                                                                          20]})),\n",
       "                             ('svm',\n",
       "                              GridSearchCV(cv=5,\n",
       "                                           estimator=SVC(probability=True),\n",
       "                                           param_grid={'C': [0.1, 1, 10],\n",
       "                                                       'gamma': [1, 0.1, 0.01],\n",
       "                                                       'kernel': ['rbf',\n",
       "                                                                  'sigmoid']})),\n",
       "                             ('lrc',\n",
       "                              GridSearchCV(cv=5, estimator=LogisticRegression(),\n",
       "                                           param_grid={'C': [0.1, 1, 10]}))])"
      ]
     },
     "execution_count": 87,
     "metadata": {},
     "output_type": "execute_result"
    }
   ],
   "source": [
    "#TO DO:\n",
    "#create a dictionary of our models\n",
    "estimator=[('knn', knn_model), ('tree', tree_model), ('svm', svm_model), ('lrc', lrc_model)]\n",
    "\n",
    "#create our voting classifier, inputting our models\n",
    "hard_model = VotingClassifier(estimators=estimator,voting=\"hard\")\n",
    "hard_model.fit(x_train,y_train)"
   ]
  },
  {
   "cell_type": "code",
   "execution_count": 88,
   "metadata": {
    "id": "zxvqWZBcM1lz",
    "outputId": "b3b398e9-7c5b-45f9-eb87-df6c769ca9dd"
   },
   "outputs": [
    {
     "name": "stdout",
     "output_type": "stream",
     "text": [
      "F1_scores:\n",
      " {'train': {'KNN': 0.6631578947368421, 'DT': 0.7052341597796143, 'SVM': 0.6341463414634145, 'LR': 0.6310160427807486, 'EN_HARD': 0.6666666666666667, 'EN_SOFT': 0.6666666666666667}, 'test': {'KNN': 0.7010309278350515, 'DT': 0.6382978723404256, 'SVM': 0.6391752577319588, 'LR': 0.6534653465346535, 'EN_HARD': 0.6451612903225806, 'EN_SOFT': 0.6947368421052632}}\n",
      "Jaccard_score:\n",
      " {'train': {'KNN': 0.49606299212598426, 'DT': 0.5446808510638298, 'SVM': 0.4642857142857143, 'LR': 0.4609375, 'EN_HARD': 0.6366197183098592, 'EN_SOFT': 0.5}, 'test': {'KNN': 0.5396825396825397, 'DT': 0.46875, 'SVM': 0.4696969696969697, 'LR': 0.4852941176470588, 'EN_HARD': 0.6451612903225806, 'EN_SOFT': 0.532258064516129}}\n"
     ]
    }
   ],
   "source": [
    "#TO DO:\n",
    "f1_scores = {'train':{'KNN':f1_score(y_train,knn_model.predict(x_train)), \n",
    "                      'DT': f1_score(y_train,tree_model.predict(x_train)), \n",
    "                      'SVM': f1_score(y_train,svm_model.predict(x_train)), \n",
    "                      'LR': f1_score(y_train,lrc_model.predict(x_train)), \n",
    "                      'EN_HARD': f1_score(y_train,soft_model.predict(x_train)), \n",
    "                      'EN_SOFT': f1_score(y_train,soft_model.predict(x_train))},\n",
    "             'test':{'KNN': f1_score(y_test,knn_model.predict(x_test)), \n",
    "                     'DT': f1_score(y_test,tree_model.predict(x_test)), \n",
    "                     'SVM': f1_score(y_test,svm_model.predict(x_test)), \n",
    "                     'LR': f1_score(y_test,lrc_model.predict(x_test)), \n",
    "                     'EN_HARD': f1_score(y_test,hard_model.predict(x_test)), \n",
    "                     'EN_SOFT': f1_score(y_test,soft_model.predict(x_test))}}\n",
    "jaccard_scores = {'train':{'KNN': jaccard_score(y_train, knn_model.predict(x_train)), \n",
    "                           'DT': jaccard_score(y_train, tree_model.predict(x_train)), \n",
    "                           'SVM': jaccard_score(y_train, svm_model.predict(x_train)), \n",
    "                           'LR': jaccard_score(y_train, lrc_model.predict(x_train)), \n",
    "                           'EN_HARD': f1_score(y_train,hard_model.predict(x_train)), \n",
    "                           'EN_SOFT': jaccard_score(y_train,soft_model.predict(x_train))}, \n",
    "                  'test':{'KNN': jaccard_score(y_test, knn_model.predict(x_test)), \n",
    "                          'DT': jaccard_score(y_test, tree_model.predict(x_test)), \n",
    "                          'SVM': jaccard_score(y_test, svm_model.predict(x_test)), \n",
    "                          'LR': jaccard_score(y_test,lrc_model.predict(x_test)), \n",
    "                          'EN_HARD': f1_score(y_test,hard_model.predict(x_test)), \n",
    "                          'EN_SOFT': jaccard_score(y_test,soft_model.predict(x_test))}}\n",
    "\n",
    "print(\"F1_scores:\")\n",
    "print(\"\",f1_scores)\n",
    "print(\"Jaccard_score:\")\n",
    "print(\"\",jaccard_scores)"
   ]
  },
  {
   "cell_type": "markdown",
   "metadata": {
    "id": "RmteU8YeM1l3"
   },
   "source": [
    "# Report\n",
    "You should be able to report the accuracy of the built model using different evaluation metrics:"
   ]
  },
  {
   "cell_type": "markdown",
   "metadata": {
    "id": "c3q0IThKM1l3"
   },
   "source": [
    "| Algorithm          | Jaccard-training | F1-score-training |Jaccard-testing | F1-score-testing |\n",
    "|--------------------|------------------|-------------------|----------------|------------------|\n",
    "| KNN                | ?                | ?                 |  ?             |  ?               |\n",
    "| Decision Tree      | ?                | ?                 |  ?             |  ?               |\n",
    "| SVM                | ?                | ?                 |  ?             |  ?               |\n",
    "| Logistic Regression| ?                | ?                 |  ?             |  ?               |\n",
    "| Hard Voting        | ?                | ?                 |  ?             |  ?               |\n",
    "| Soft Voting        | ?                | ?                 |  ?             |  ?               |\n"
   ]
  },
  {
   "cell_type": "markdown",
   "metadata": {
    "id": "PpqjW-eOM1l3"
   },
   "source": [
    "### 23. Create a data frame that describes the result as exactly as above."
   ]
  },
  {
   "cell_type": "code",
   "execution_count": 89,
   "metadata": {
    "id": "pI3_EsgtM1l4",
    "outputId": "4fe78116-eccf-4762-c9e8-74175b6381fa"
   },
   "outputs": [
    {
     "data": {
      "text/html": [
       "<div>\n",
       "<style scoped>\n",
       "    .dataframe tbody tr th:only-of-type {\n",
       "        vertical-align: middle;\n",
       "    }\n",
       "\n",
       "    .dataframe tbody tr th {\n",
       "        vertical-align: top;\n",
       "    }\n",
       "\n",
       "    .dataframe thead th {\n",
       "        text-align: right;\n",
       "    }\n",
       "</style>\n",
       "<table border=\"1\" class=\"dataframe\">\n",
       "  <thead>\n",
       "    <tr style=\"text-align: right;\">\n",
       "      <th></th>\n",
       "      <th>Algorithm</th>\n",
       "      <th>Jaccard-training</th>\n",
       "      <th>F1-score-training</th>\n",
       "      <th>Jaccard-testing</th>\n",
       "      <th>F1-score-testing</th>\n",
       "    </tr>\n",
       "  </thead>\n",
       "  <tbody>\n",
       "    <tr>\n",
       "      <th>0</th>\n",
       "      <td>KNN</td>\n",
       "      <td>0.496063</td>\n",
       "      <td>0.663158</td>\n",
       "      <td>0.539683</td>\n",
       "      <td>0.701031</td>\n",
       "    </tr>\n",
       "    <tr>\n",
       "      <th>1</th>\n",
       "      <td>DT</td>\n",
       "      <td>0.544681</td>\n",
       "      <td>0.705234</td>\n",
       "      <td>0.468750</td>\n",
       "      <td>0.638298</td>\n",
       "    </tr>\n",
       "    <tr>\n",
       "      <th>2</th>\n",
       "      <td>SVM</td>\n",
       "      <td>0.464286</td>\n",
       "      <td>0.634146</td>\n",
       "      <td>0.469697</td>\n",
       "      <td>0.639175</td>\n",
       "    </tr>\n",
       "    <tr>\n",
       "      <th>3</th>\n",
       "      <td>LR</td>\n",
       "      <td>0.460938</td>\n",
       "      <td>0.631016</td>\n",
       "      <td>0.485294</td>\n",
       "      <td>0.653465</td>\n",
       "    </tr>\n",
       "    <tr>\n",
       "      <th>4</th>\n",
       "      <td>EN_HARD</td>\n",
       "      <td>0.636620</td>\n",
       "      <td>0.666667</td>\n",
       "      <td>0.645161</td>\n",
       "      <td>0.645161</td>\n",
       "    </tr>\n",
       "    <tr>\n",
       "      <th>5</th>\n",
       "      <td>EN_SOFT</td>\n",
       "      <td>0.500000</td>\n",
       "      <td>0.666667</td>\n",
       "      <td>0.532258</td>\n",
       "      <td>0.694737</td>\n",
       "    </tr>\n",
       "  </tbody>\n",
       "</table>\n",
       "</div>"
      ],
      "text/plain": [
       "  Algorithm  Jaccard-training  F1-score-training  Jaccard-testing  \\\n",
       "0       KNN          0.496063           0.663158         0.539683   \n",
       "1        DT          0.544681           0.705234         0.468750   \n",
       "2       SVM          0.464286           0.634146         0.469697   \n",
       "3        LR          0.460938           0.631016         0.485294   \n",
       "4   EN_HARD          0.636620           0.666667         0.645161   \n",
       "5   EN_SOFT          0.500000           0.666667         0.532258   \n",
       "\n",
       "   F1-score-testing  \n",
       "0          0.701031  \n",
       "1          0.638298  \n",
       "2          0.639175  \n",
       "3          0.653465  \n",
       "4          0.645161  \n",
       "5          0.694737  "
      ]
     },
     "execution_count": 89,
     "metadata": {},
     "output_type": "execute_result"
    }
   ],
   "source": [
    "#TO DO:\n",
    "# lấy dữ liệu và đổi tên cột\n",
    "jaccard =pd.DataFrame(jaccard_scores)\n",
    "jaccard.rename(columns={\"train\": \"Jaccard-training\", \"test\": \"Jaccard-testing\"},inplace=True)\n",
    "\n",
    "f1=pd.DataFrame(f1_scores)\n",
    "f1.rename(columns={\"train\": \"F1-score-training\", \"test\": \"F1-score-testing\"},inplace=True)\n",
    "\n",
    "# nối 2 DataFrame\n",
    "metrics_df=pd.concat([jaccard,f1],axis=1)\n",
    "metrics_df.reset_index(inplace=True)\n",
    "metrics_df.rename(columns={\"index\": \"Algorithm\"},inplace=True)\n",
    "metrics_df=metrics_df[[\"Algorithm\",\"Jaccard-training\",\"F1-score-training\",\"Jaccard-testing\",\"F1-score-testing\"]]\n",
    "metrics_df"
   ]
  },
  {
   "cell_type": "markdown",
   "metadata": {
    "id": "TYifTRP7M1l5"
   },
   "source": [
    "# Additional Question: \n",
    "### Are ensemble methods always better than a single model? If not, explain why?\n",
    "Type your answer in the cell bellow as the markdown format.\n",
    "\t"
   ]
  },
  {
   "cell_type": "markdown",
   "metadata": {
    "id": "450BrJ44M1l6"
   },
   "source": [
    "### TO DO\n"
   ]
  }
 ],
 "metadata": {
  "colab": {
   "collapsed_sections": [
    "2yXSkeUjM1kr",
    "qaJt1GeEM1lA",
    "450BrJ44M1l6"
   ],
   "name": "DSP303x_01_EN_2_Starter_Code.ipynb",
   "provenance": []
  },
  "kernelspec": {
   "display_name": "Python 3",
   "language": "python",
   "name": "python3"
  },
  "language_info": {
   "codemirror_mode": {
    "name": "ipython",
    "version": 3
   },
   "file_extension": ".py",
   "mimetype": "text/x-python",
   "name": "python",
   "nbconvert_exporter": "python",
   "pygments_lexer": "ipython3",
   "version": "3.7.10"
  }
 },
 "nbformat": 4,
 "nbformat_minor": 1
}
